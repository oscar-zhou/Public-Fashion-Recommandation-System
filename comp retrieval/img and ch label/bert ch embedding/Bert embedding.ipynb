{
 "cells": [
  {
   "attachments": {},
   "cell_type": "markdown",
   "metadata": {},
   "source": [
    "# 套件 import"
   ]
  },
  {
   "cell_type": "code",
   "execution_count": 44,
   "metadata": {},
   "outputs": [],
   "source": [
    "import numpy as np\n",
    "import pandas as pd\n",
    "import nltk\n",
    "from tqdm import tqdm\n",
    "import pickle, json #, pyodbc\n",
    "import datetime as dt\n",
    "import torch, traceback\n",
    "# from keras.preprocessing.sequence import pad_sequences  # 報錯\n",
    "from tensorflow.keras.preprocessing.sequence import pad_sequences\n",
    "import transformers\n",
    "import string\n",
    "from transformers import AutoTokenizer, AutoModelForMaskedLM, AutoModel, BertModel"
   ]
  },
  {
   "cell_type": "code",
   "execution_count": 34,
   "metadata": {},
   "outputs": [
    {
     "name": "stdout",
     "output_type": "stream",
     "text": [
      "1.13.1\n",
      "4.24.0\n"
     ]
    }
   ],
   "source": [
    "print(torch.__version__)\n",
    "print(transformers.__version__)"
   ]
  },
  {
   "cell_type": "code",
   "execution_count": 45,
   "metadata": {},
   "outputs": [
    {
     "data": {
      "text/plain": [
       "False"
      ]
     },
     "execution_count": 45,
     "metadata": {},
     "output_type": "execute_result"
    }
   ],
   "source": [
    "#True\n",
    "torch.cuda.is_available()"
   ]
  },
  {
   "cell_type": "code",
   "execution_count": 46,
   "metadata": {},
   "outputs": [
    {
     "data": {
      "text/plain": [
       "'cpu'"
      ]
     },
     "execution_count": 46,
     "metadata": {},
     "output_type": "execute_result"
    }
   ],
   "source": [
    "device = \"cuda:0\" if torch.cuda.is_available() else \"cpu\"\n",
    "device"
   ]
  },
  {
   "attachments": {},
   "cell_type": "markdown",
   "metadata": {},
   "source": [
    "# 讀取檔案"
   ]
  },
  {
   "attachments": {},
   "cell_type": "markdown",
   "metadata": {},
   "source": [
    "embedding_df：將mixFitData的品項加上相對應的 訓練資料標籤(新+舊).csv中的feature，只取全部都有值的品項<br>\n",
    "共有3769個品項(包含上下身)"
   ]
  },
  {
   "cell_type": "code",
   "execution_count": 47,
   "metadata": {},
   "outputs": [
    {
     "data": {
      "text/html": [
       "<div>\n",
       "<style scoped>\n",
       "    .dataframe tbody tr th:only-of-type {\n",
       "        vertical-align: middle;\n",
       "    }\n",
       "\n",
       "    .dataframe tbody tr th {\n",
       "        vertical-align: top;\n",
       "    }\n",
       "\n",
       "    .dataframe thead th {\n",
       "        text-align: right;\n",
       "    }\n",
       "</style>\n",
       "<table border=\"1\" class=\"dataframe\">\n",
       "  <thead>\n",
       "    <tr style=\"text-align: right;\">\n",
       "      <th></th>\n",
       "      <th>款號搭配</th>\n",
       "      <th>季別</th>\n",
       "      <th>Dimension</th>\n",
       "      <th>標籤類型</th>\n",
       "      <th>元素</th>\n",
       "      <th>風格</th>\n",
       "      <th>Material</th>\n",
       "      <th>花型</th>\n",
       "    </tr>\n",
       "  </thead>\n",
       "  <tbody>\n",
       "    <tr>\n",
       "      <th>0</th>\n",
       "      <td>AB0116</td>\n",
       "      <td>夏</td>\n",
       "      <td>上衣</td>\n",
       "      <td>T-SHIRT</td>\n",
       "      <td>長版短袖</td>\n",
       "      <td>柔美氣質優雅微甜女孩</td>\n",
       "      <td>棉一般含棉量60蕾絲</td>\n",
       "      <td>素面色</td>\n",
       "    </tr>\n",
       "    <tr>\n",
       "      <th>1</th>\n",
       "      <td>AB0194</td>\n",
       "      <td>夏</td>\n",
       "      <td></td>\n",
       "      <td></td>\n",
       "      <td></td>\n",
       "      <td></td>\n",
       "      <td></td>\n",
       "      <td></td>\n",
       "    </tr>\n",
       "    <tr>\n",
       "      <th>2</th>\n",
       "      <td>AB0391</td>\n",
       "      <td>夏</td>\n",
       "      <td></td>\n",
       "      <td></td>\n",
       "      <td></td>\n",
       "      <td></td>\n",
       "      <td></td>\n",
       "      <td></td>\n",
       "    </tr>\n",
       "    <tr>\n",
       "      <th>3</th>\n",
       "      <td>AB0435</td>\n",
       "      <td>夏</td>\n",
       "      <td>上衣</td>\n",
       "      <td>T-SHIRT</td>\n",
       "      <td>正常短袖</td>\n",
       "      <td></td>\n",
       "      <td>棉一般含棉量60聚酯纖維</td>\n",
       "      <td>字母素面色</td>\n",
       "    </tr>\n",
       "    <tr>\n",
       "      <th>4</th>\n",
       "      <td>AB0848</td>\n",
       "      <td>夏</td>\n",
       "      <td>上衣</td>\n",
       "      <td>T-SHIRT</td>\n",
       "      <td>正常短袖</td>\n",
       "      <td>無印風簡約風</td>\n",
       "      <td>竹節棉</td>\n",
       "      <td>素面色</td>\n",
       "    </tr>\n",
       "    <tr>\n",
       "      <th>...</th>\n",
       "      <td>...</td>\n",
       "      <td>...</td>\n",
       "      <td>...</td>\n",
       "      <td>...</td>\n",
       "      <td>...</td>\n",
       "      <td>...</td>\n",
       "      <td>...</td>\n",
       "      <td>...</td>\n",
       "    </tr>\n",
       "    <tr>\n",
       "      <th>7068</th>\n",
       "      <td>QA1183</td>\n",
       "      <td>冬</td>\n",
       "      <td>裙子</td>\n",
       "      <td>A字裙</td>\n",
       "      <td>短裙</td>\n",
       "      <td>可愛女孩系微甜女孩</td>\n",
       "      <td>純棉全棉高棉含棉量95以上聚酯纖維網紗</td>\n",
       "      <td>拼色配色</td>\n",
       "    </tr>\n",
       "    <tr>\n",
       "      <th>7069</th>\n",
       "      <td>QA1185</td>\n",
       "      <td>四季</td>\n",
       "      <td>褲子</td>\n",
       "      <td>哈倫褲燈籠褲</td>\n",
       "      <td>長褲全長</td>\n",
       "      <td>無印風簡約風休閒風</td>\n",
       "      <td>聚酯纖維</td>\n",
       "      <td>素面色</td>\n",
       "    </tr>\n",
       "    <tr>\n",
       "      <th>7070</th>\n",
       "      <td>QA1186</td>\n",
       "      <td>四季</td>\n",
       "      <td>褲子</td>\n",
       "      <td>連身褲吊帶褲</td>\n",
       "      <td>長褲全長</td>\n",
       "      <td>街頭風可愛休閒風</td>\n",
       "      <td>純棉全棉高棉含棉量95以上</td>\n",
       "      <td>卡通</td>\n",
       "    </tr>\n",
       "    <tr>\n",
       "      <th>7071</th>\n",
       "      <td>QA1189</td>\n",
       "      <td>冬</td>\n",
       "      <td>裙子</td>\n",
       "      <td>A字裙</td>\n",
       "      <td>短裙</td>\n",
       "      <td>簡約風學院風休閒風</td>\n",
       "      <td>毛呢</td>\n",
       "      <td>格紋</td>\n",
       "    </tr>\n",
       "    <tr>\n",
       "      <th>7072</th>\n",
       "      <td>QA1190</td>\n",
       "      <td>冬</td>\n",
       "      <td>褲子</td>\n",
       "      <td>休閒褲</td>\n",
       "      <td>長褲全長</td>\n",
       "      <td>簡約風休閒風</td>\n",
       "      <td>嫘縈尼龍</td>\n",
       "      <td>素面色</td>\n",
       "    </tr>\n",
       "  </tbody>\n",
       "</table>\n",
       "<p>7073 rows × 8 columns</p>\n",
       "</div>"
      ],
      "text/plain": [
       "        款號搭配  季別 Dimension     標籤類型    元素          風格             Material  \\\n",
       "0     AB0116   夏        上衣  T-SHIRT  長版短袖  柔美氣質優雅微甜女孩           棉一般含棉量60蕾絲   \n",
       "1     AB0194   夏                                                             \n",
       "2     AB0391   夏                                                             \n",
       "3     AB0435   夏        上衣  T-SHIRT  正常短袖                     棉一般含棉量60聚酯纖維   \n",
       "4     AB0848   夏        上衣  T-SHIRT  正常短袖      無印風簡約風                  竹節棉   \n",
       "...      ...  ..       ...      ...   ...         ...                  ...   \n",
       "7068  QA1183   冬        裙子      A字裙    短裙   可愛女孩系微甜女孩  純棉全棉高棉含棉量95以上聚酯纖維網紗   \n",
       "7069  QA1185  四季        褲子   哈倫褲燈籠褲  長褲全長   無印風簡約風休閒風                 聚酯纖維   \n",
       "7070  QA1186  四季        褲子   連身褲吊帶褲  長褲全長    街頭風可愛休閒風        純棉全棉高棉含棉量95以上   \n",
       "7071  QA1189   冬        裙子      A字裙    短裙   簡約風學院風休閒風                   毛呢   \n",
       "7072  QA1190   冬        褲子      休閒褲  長褲全長      簡約風休閒風                 嫘縈尼龍   \n",
       "\n",
       "         花型  \n",
       "0       素面色  \n",
       "1            \n",
       "2            \n",
       "3     字母素面色  \n",
       "4       素面色  \n",
       "...     ...  \n",
       "7068   拼色配色  \n",
       "7069    素面色  \n",
       "7070     卡通  \n",
       "7071     格紋  \n",
       "7072    素面色  \n",
       "\n",
       "[7073 rows x 8 columns]"
      ]
     },
     "execution_count": 47,
     "metadata": {},
     "output_type": "execute_result"
    }
   ],
   "source": [
    "embedding_df = pd.read_pickle(\"embedding_df.pickle\")\n",
    "embedding_df"
   ]
  },
  {
   "attachments": {},
   "cell_type": "markdown",
   "metadata": {},
   "source": [
    "## 資料前處理"
   ]
  },
  {
   "cell_type": "code",
   "execution_count": 48,
   "metadata": {},
   "outputs": [
    {
     "data": {
      "text/html": [
       "<div>\n",
       "<style scoped>\n",
       "    .dataframe tbody tr th:only-of-type {\n",
       "        vertical-align: middle;\n",
       "    }\n",
       "\n",
       "    .dataframe tbody tr th {\n",
       "        vertical-align: top;\n",
       "    }\n",
       "\n",
       "    .dataframe thead th {\n",
       "        text-align: right;\n",
       "    }\n",
       "</style>\n",
       "<table border=\"1\" class=\"dataframe\">\n",
       "  <thead>\n",
       "    <tr style=\"text-align: right;\">\n",
       "      <th></th>\n",
       "      <th>款號</th>\n",
       "    </tr>\n",
       "  </thead>\n",
       "  <tbody>\n",
       "    <tr>\n",
       "      <th>0</th>\n",
       "      <td>AB0116</td>\n",
       "    </tr>\n",
       "    <tr>\n",
       "      <th>1</th>\n",
       "      <td>AB0194</td>\n",
       "    </tr>\n",
       "    <tr>\n",
       "      <th>2</th>\n",
       "      <td>AB0391</td>\n",
       "    </tr>\n",
       "    <tr>\n",
       "      <th>3</th>\n",
       "      <td>AB0435</td>\n",
       "    </tr>\n",
       "    <tr>\n",
       "      <th>4</th>\n",
       "      <td>AB0848</td>\n",
       "    </tr>\n",
       "    <tr>\n",
       "      <th>...</th>\n",
       "      <td>...</td>\n",
       "    </tr>\n",
       "    <tr>\n",
       "      <th>7068</th>\n",
       "      <td>QA1183</td>\n",
       "    </tr>\n",
       "    <tr>\n",
       "      <th>7069</th>\n",
       "      <td>QA1185</td>\n",
       "    </tr>\n",
       "    <tr>\n",
       "      <th>7070</th>\n",
       "      <td>QA1186</td>\n",
       "    </tr>\n",
       "    <tr>\n",
       "      <th>7071</th>\n",
       "      <td>QA1189</td>\n",
       "    </tr>\n",
       "    <tr>\n",
       "      <th>7072</th>\n",
       "      <td>QA1190</td>\n",
       "    </tr>\n",
       "  </tbody>\n",
       "</table>\n",
       "<p>7073 rows × 1 columns</p>\n",
       "</div>"
      ],
      "text/plain": [
       "          款號\n",
       "0     AB0116\n",
       "1     AB0194\n",
       "2     AB0391\n",
       "3     AB0435\n",
       "4     AB0848\n",
       "...      ...\n",
       "7068  QA1183\n",
       "7069  QA1185\n",
       "7070  QA1186\n",
       "7071  QA1189\n",
       "7072  QA1190\n",
       "\n",
       "[7073 rows x 1 columns]"
      ]
     },
     "execution_count": 48,
     "metadata": {},
     "output_type": "execute_result"
    }
   ],
   "source": [
    "bert_input_df = embedding_df[[\"款號搭配\"]]\n",
    "bert_input_df = bert_input_df.rename({'款號搭配':'款號'}, axis='columns')\n",
    "bert_input_df = bert_input_df.reset_index(drop=True)\n",
    "bert_input_df.to_csv('all_mainID.csv', index=False, encoding='utf_8_sig')\n",
    "bert_input_df"
   ]
  },
  {
   "cell_type": "code",
   "execution_count": 39,
   "metadata": {},
   "outputs": [
    {
     "data": {
      "text/plain": [
       "['夏', '', '', '', '', '', '']"
      ]
     },
     "execution_count": 39,
     "metadata": {},
     "output_type": "execute_result"
    }
   ],
   "source": [
    "list(embedding_df.iloc[1])[1:] # 去掉款項(只留特徵值)\n"
   ]
  },
  {
   "cell_type": "code",
   "execution_count": 49,
   "metadata": {},
   "outputs": [
    {
     "name": "stderr",
     "output_type": "stream",
     "text": [
      "100%|██████████| 7073/7073 [00:00<00:00, 13792.18it/s]\n"
     ]
    }
   ],
   "source": [
    "Label = []\n",
    "for i in tqdm(range(len(embedding_df))):\n",
    "    label_list = list(embedding_df.iloc[i])[1:]\n",
    "    while '' in label_list: #去除list裡面的空字串\n",
    "        label_list.remove('')\n",
    "    Label.append(label_list) # 去掉款項(只留特徵值)"
   ]
  },
  {
   "cell_type": "code",
   "execution_count": 50,
   "metadata": {},
   "outputs": [],
   "source": [
    "bert_input_df['Label'] = Label # 將特徵值新增進dataframe(bert_input_df)中"
   ]
  },
  {
   "cell_type": "code",
   "execution_count": 51,
   "metadata": {},
   "outputs": [
    {
     "data": {
      "text/html": [
       "<div>\n",
       "<style scoped>\n",
       "    .dataframe tbody tr th:only-of-type {\n",
       "        vertical-align: middle;\n",
       "    }\n",
       "\n",
       "    .dataframe tbody tr th {\n",
       "        vertical-align: top;\n",
       "    }\n",
       "\n",
       "    .dataframe thead th {\n",
       "        text-align: right;\n",
       "    }\n",
       "</style>\n",
       "<table border=\"1\" class=\"dataframe\">\n",
       "  <thead>\n",
       "    <tr style=\"text-align: right;\">\n",
       "      <th></th>\n",
       "      <th>款號</th>\n",
       "      <th>Label</th>\n",
       "    </tr>\n",
       "  </thead>\n",
       "  <tbody>\n",
       "    <tr>\n",
       "      <th>0</th>\n",
       "      <td>AB0116</td>\n",
       "      <td>[夏, 上衣, T-SHIRT, 長版短袖, 柔美氣質優雅微甜女孩, 棉一般含棉量60蕾絲,...</td>\n",
       "    </tr>\n",
       "    <tr>\n",
       "      <th>1</th>\n",
       "      <td>AB0194</td>\n",
       "      <td>[夏]</td>\n",
       "    </tr>\n",
       "    <tr>\n",
       "      <th>2</th>\n",
       "      <td>AB0391</td>\n",
       "      <td>[夏]</td>\n",
       "    </tr>\n",
       "    <tr>\n",
       "      <th>3</th>\n",
       "      <td>AB0435</td>\n",
       "      <td>[夏, 上衣, T-SHIRT, 正常短袖, 棉一般含棉量60聚酯纖維, 字母素面色]</td>\n",
       "    </tr>\n",
       "    <tr>\n",
       "      <th>4</th>\n",
       "      <td>AB0848</td>\n",
       "      <td>[夏, 上衣, T-SHIRT, 正常短袖, 無印風簡約風, 竹節棉, 素面色]</td>\n",
       "    </tr>\n",
       "    <tr>\n",
       "      <th>...</th>\n",
       "      <td>...</td>\n",
       "      <td>...</td>\n",
       "    </tr>\n",
       "    <tr>\n",
       "      <th>7068</th>\n",
       "      <td>QA1183</td>\n",
       "      <td>[冬, 裙子, A字裙, 短裙, 可愛女孩系微甜女孩, 純棉全棉高棉含棉量95以上聚酯纖維網...</td>\n",
       "    </tr>\n",
       "    <tr>\n",
       "      <th>7069</th>\n",
       "      <td>QA1185</td>\n",
       "      <td>[四季, 褲子, 哈倫褲燈籠褲, 長褲全長, 無印風簡約風休閒風, 聚酯纖維, 素面色]</td>\n",
       "    </tr>\n",
       "    <tr>\n",
       "      <th>7070</th>\n",
       "      <td>QA1186</td>\n",
       "      <td>[四季, 褲子, 連身褲吊帶褲, 長褲全長, 街頭風可愛休閒風, 純棉全棉高棉含棉量95以上...</td>\n",
       "    </tr>\n",
       "    <tr>\n",
       "      <th>7071</th>\n",
       "      <td>QA1189</td>\n",
       "      <td>[冬, 裙子, A字裙, 短裙, 簡約風學院風休閒風, 毛呢, 格紋]</td>\n",
       "    </tr>\n",
       "    <tr>\n",
       "      <th>7072</th>\n",
       "      <td>QA1190</td>\n",
       "      <td>[冬, 褲子, 休閒褲, 長褲全長, 簡約風休閒風, 嫘縈尼龍, 素面色]</td>\n",
       "    </tr>\n",
       "  </tbody>\n",
       "</table>\n",
       "<p>7073 rows × 2 columns</p>\n",
       "</div>"
      ],
      "text/plain": [
       "          款號                                              Label\n",
       "0     AB0116  [夏, 上衣, T-SHIRT, 長版短袖, 柔美氣質優雅微甜女孩, 棉一般含棉量60蕾絲,...\n",
       "1     AB0194                                                [夏]\n",
       "2     AB0391                                                [夏]\n",
       "3     AB0435        [夏, 上衣, T-SHIRT, 正常短袖, 棉一般含棉量60聚酯纖維, 字母素面色]\n",
       "4     AB0848           [夏, 上衣, T-SHIRT, 正常短袖, 無印風簡約風, 竹節棉, 素面色]\n",
       "...      ...                                                ...\n",
       "7068  QA1183  [冬, 裙子, A字裙, 短裙, 可愛女孩系微甜女孩, 純棉全棉高棉含棉量95以上聚酯纖維網...\n",
       "7069  QA1185       [四季, 褲子, 哈倫褲燈籠褲, 長褲全長, 無印風簡約風休閒風, 聚酯纖維, 素面色]\n",
       "7070  QA1186  [四季, 褲子, 連身褲吊帶褲, 長褲全長, 街頭風可愛休閒風, 純棉全棉高棉含棉量95以上...\n",
       "7071  QA1189                [冬, 裙子, A字裙, 短裙, 簡約風學院風休閒風, 毛呢, 格紋]\n",
       "7072  QA1190              [冬, 褲子, 休閒褲, 長褲全長, 簡約風休閒風, 嫘縈尼龍, 素面色]\n",
       "\n",
       "[7073 rows x 2 columns]"
      ]
     },
     "execution_count": 51,
     "metadata": {},
     "output_type": "execute_result"
    }
   ],
   "source": [
    "bert_input_df"
   ]
  },
  {
   "cell_type": "code",
   "execution_count": 52,
   "metadata": {},
   "outputs": [
    {
     "data": {
      "text/html": [
       "<div>\n",
       "<style scoped>\n",
       "    .dataframe tbody tr th:only-of-type {\n",
       "        vertical-align: middle;\n",
       "    }\n",
       "\n",
       "    .dataframe tbody tr th {\n",
       "        vertical-align: top;\n",
       "    }\n",
       "\n",
       "    .dataframe thead th {\n",
       "        text-align: right;\n",
       "    }\n",
       "</style>\n",
       "<table border=\"1\" class=\"dataframe\">\n",
       "  <thead>\n",
       "    <tr style=\"text-align: right;\">\n",
       "      <th></th>\n",
       "      <th>款號</th>\n",
       "      <th>Label</th>\n",
       "    </tr>\n",
       "  </thead>\n",
       "  <tbody>\n",
       "    <tr>\n",
       "      <th>0</th>\n",
       "      <td>AB0116</td>\n",
       "      <td>夏上衣T-SHIRT長版短袖柔美氣質優雅微甜女孩棉一般含棉量60蕾絲素面色</td>\n",
       "    </tr>\n",
       "    <tr>\n",
       "      <th>1</th>\n",
       "      <td>AB0194</td>\n",
       "      <td>夏</td>\n",
       "    </tr>\n",
       "    <tr>\n",
       "      <th>2</th>\n",
       "      <td>AB0391</td>\n",
       "      <td>夏</td>\n",
       "    </tr>\n",
       "    <tr>\n",
       "      <th>3</th>\n",
       "      <td>AB0435</td>\n",
       "      <td>夏上衣T-SHIRT正常短袖棉一般含棉量60聚酯纖維字母素面色</td>\n",
       "    </tr>\n",
       "    <tr>\n",
       "      <th>4</th>\n",
       "      <td>AB0848</td>\n",
       "      <td>夏上衣T-SHIRT正常短袖無印風簡約風竹節棉素面色</td>\n",
       "    </tr>\n",
       "    <tr>\n",
       "      <th>...</th>\n",
       "      <td>...</td>\n",
       "      <td>...</td>\n",
       "    </tr>\n",
       "    <tr>\n",
       "      <th>7068</th>\n",
       "      <td>QA1183</td>\n",
       "      <td>冬裙子A字裙短裙可愛女孩系微甜女孩純棉全棉高棉含棉量95以上聚酯纖維網紗拼色配色</td>\n",
       "    </tr>\n",
       "    <tr>\n",
       "      <th>7069</th>\n",
       "      <td>QA1185</td>\n",
       "      <td>四季褲子哈倫褲燈籠褲長褲全長無印風簡約風休閒風聚酯纖維素面色</td>\n",
       "    </tr>\n",
       "    <tr>\n",
       "      <th>7070</th>\n",
       "      <td>QA1186</td>\n",
       "      <td>四季褲子連身褲吊帶褲長褲全長街頭風可愛休閒風純棉全棉高棉含棉量95以上卡通</td>\n",
       "    </tr>\n",
       "    <tr>\n",
       "      <th>7071</th>\n",
       "      <td>QA1189</td>\n",
       "      <td>冬裙子A字裙短裙簡約風學院風休閒風毛呢格紋</td>\n",
       "    </tr>\n",
       "    <tr>\n",
       "      <th>7072</th>\n",
       "      <td>QA1190</td>\n",
       "      <td>冬褲子休閒褲長褲全長簡約風休閒風嫘縈尼龍素面色</td>\n",
       "    </tr>\n",
       "  </tbody>\n",
       "</table>\n",
       "<p>7073 rows × 2 columns</p>\n",
       "</div>"
      ],
      "text/plain": [
       "          款號                                     Label\n",
       "0     AB0116     夏上衣T-SHIRT長版短袖柔美氣質優雅微甜女孩棉一般含棉量60蕾絲素面色\n",
       "1     AB0194                                         夏\n",
       "2     AB0391                                         夏\n",
       "3     AB0435           夏上衣T-SHIRT正常短袖棉一般含棉量60聚酯纖維字母素面色\n",
       "4     AB0848                夏上衣T-SHIRT正常短袖無印風簡約風竹節棉素面色\n",
       "...      ...                                       ...\n",
       "7068  QA1183  冬裙子A字裙短裙可愛女孩系微甜女孩純棉全棉高棉含棉量95以上聚酯纖維網紗拼色配色\n",
       "7069  QA1185            四季褲子哈倫褲燈籠褲長褲全長無印風簡約風休閒風聚酯纖維素面色\n",
       "7070  QA1186     四季褲子連身褲吊帶褲長褲全長街頭風可愛休閒風純棉全棉高棉含棉量95以上卡通\n",
       "7071  QA1189                     冬裙子A字裙短裙簡約風學院風休閒風毛呢格紋\n",
       "7072  QA1190                   冬褲子休閒褲長褲全長簡約風休閒風嫘縈尼龍素面色\n",
       "\n",
       "[7073 rows x 2 columns]"
      ]
     },
     "execution_count": 52,
     "metadata": {},
     "output_type": "execute_result"
    }
   ],
   "source": [
    "bert_input_df['Label'] = bert_input_df['Label'].apply(lambda x: ''.join(x))\n",
    "bert_input_df"
   ]
  },
  {
   "attachments": {},
   "cell_type": "markdown",
   "metadata": {},
   "source": [
    "# BERT embedding"
   ]
  },
  {
   "cell_type": "code",
   "execution_count": 13,
   "metadata": {},
   "outputs": [],
   "source": [
    "# from transformers import AutoTokenizer, AutoModelForMaskedLM, AutoModel, BertModel\n",
    "# model_path = 'ckiplab/bert-base-chinese'\n",
    "# tokenizer = AutoTokenizer.from_pretrained(model_path)\n",
    "# model = AutoModel.from_pretrained(model_path)"
   ]
  },
  {
   "cell_type": "code",
   "execution_count": 53,
   "metadata": {},
   "outputs": [],
   "source": [
    "from transformers import (\n",
    "    BertTokenizerFast,\n",
    "    BertModel\n",
    ")"
   ]
  },
  {
   "cell_type": "code",
   "execution_count": 54,
   "metadata": {},
   "outputs": [
    {
     "name": "stderr",
     "output_type": "stream",
     "text": [
      "Some weights of the model checkpoint at ckiplab/bert-base-chinese were not used when initializing BertModel: ['cls.predictions.transform.dense.weight', 'cls.predictions.transform.dense.bias', 'cls.predictions.decoder.bias', 'cls.predictions.transform.LayerNorm.bias', 'cls.predictions.bias', 'cls.predictions.decoder.weight', 'cls.predictions.transform.LayerNorm.weight']\n",
      "- This IS expected if you are initializing BertModel from the checkpoint of a model trained on another task or with another architecture (e.g. initializing a BertForSequenceClassification model from a BertForPreTraining model).\n",
      "- This IS NOT expected if you are initializing BertModel from the checkpoint of a model that you expect to be exactly identical (initializing a BertForSequenceClassification model from a BertForSequenceClassification model).\n",
      "Some weights of BertModel were not initialized from the model checkpoint at ckiplab/bert-base-chinese and are newly initialized: ['bert.pooler.dense.weight', 'bert.pooler.dense.bias']\n",
      "You should probably TRAIN this model on a down-stream task to be able to use it for predictions and inference.\n"
     ]
    }
   ],
   "source": [
    "tokenizer = BertTokenizerFast.from_pretrained('bert-base-chinese')\n",
    "model = BertModel.from_pretrained('ckiplab/bert-base-chinese')"
   ]
  },
  {
   "cell_type": "code",
   "execution_count": 55,
   "metadata": {},
   "outputs": [
    {
     "data": {
      "text/plain": [
       "'cpu'"
      ]
     },
     "execution_count": 55,
     "metadata": {},
     "output_type": "execute_result"
    }
   ],
   "source": [
    "device = \"cuda:0\" if torch.cuda.is_available() else \"cpu\"\n",
    "device"
   ]
  },
  {
   "cell_type": "code",
   "execution_count": 17,
   "metadata": {},
   "outputs": [],
   "source": [
    "# # tokenizer = tokenizer.to(device)\n",
    "# model.eval()\n",
    "# model = model.to(device)"
   ]
  },
  {
   "attachments": {},
   "cell_type": "markdown",
   "metadata": {},
   "source": [
    "# Peace版"
   ]
  },
  {
   "cell_type": "code",
   "execution_count": 18,
   "metadata": {},
   "outputs": [],
   "source": [
    "# @torch.no_grad()\n",
    "# def torch_bert_seq2encoding(texts, max_len = 512):\n",
    "#     try:\n",
    "#         sent_token = []\n",
    "#         sent_token_padding = []\n",
    "#         for text in texts:\n",
    "#             sent_token.append(tokenizer.encode('[cls]' + text))\n",
    "#         sent_token_padding = pad_sequences(sent_token, maxlen=max_len, padding='post', dtype='int')\n",
    "#         masks = [[float(value>0) for value in values] for values in sent_token_padding]\n",
    "        \n",
    "#         masks = torch.tensor(masks).to(device)\n",
    "#         inputs = torch.tensor(sent_token_padding).to(device)\n",
    "#         # embedded = model(inputs, attention_mask=masks).pooler_output.detach().cpu().numpy()\n",
    "#         # embedded = model(inputs, attention_mask=masks)\n",
    "#         embedded = model(inputs, attention_mask=masks).last_hidden_state.mean(dim=1)\n",
    "#         torch.cuda.empty_cache()\n",
    "#         # masks = torch.tensor(masks).to('cpu')\n",
    "#         # masks = torch.tensor(masks).detach()\n",
    "#         # inputs = torch.tensor(sent_token_padding).to('cpu')    \n",
    "#         # inputs = torch.tensor(sent_token_padding).detach()\n",
    "#         return embedded\n",
    "#     except:\n",
    "#         masks = torch.tensor(masks).to('cpu')\n",
    "#         inputs = torch.tensor(sent_token_padding).to('cpu')    \n",
    "#         torch.cuda.empty_cache()\n",
    "#         traceback.print_exc()"
   ]
  },
  {
   "cell_type": "code",
   "execution_count": 19,
   "metadata": {},
   "outputs": [],
   "source": [
    "# len(bert_input_df)"
   ]
  },
  {
   "cell_type": "code",
   "execution_count": 20,
   "metadata": {},
   "outputs": [],
   "source": [
    "# embedding = torch_bert_seq2encoding(bert_input_df['Label'][0])"
   ]
  },
  {
   "cell_type": "code",
   "execution_count": 21,
   "metadata": {},
   "outputs": [],
   "source": [
    "# batch_size = 200\n",
    "# all_embeddings = torch.tensor([]).to(device)\n",
    "# for i in tqdm(range(0, 50)):\n",
    "#     embedding = torch_bert_seq2encoding(bert_input_df['Label'][i])\n",
    "#     last_layer_embedding = embedding  # 取得最後一層的embedding\n",
    "#     # 將所有批次的嵌入向量拼接起來\n",
    "#     all_embeddings = torch.cat([all_embeddings, last_layer_embedding], dim = 0)"
   ]
  },
  {
   "cell_type": "code",
   "execution_count": 22,
   "metadata": {},
   "outputs": [],
   "source": [
    "# all_embeddings.shape"
   ]
  },
  {
   "cell_type": "code",
   "execution_count": 23,
   "metadata": {},
   "outputs": [],
   "source": [
    "# embedding.shape"
   ]
  },
  {
   "cell_type": "code",
   "execution_count": 24,
   "metadata": {},
   "outputs": [],
   "source": [
    "# len(all_embeddings)"
   ]
  },
  {
   "attachments": {},
   "cell_type": "markdown",
   "metadata": {},
   "source": [
    "# 子滔如涵版"
   ]
  },
  {
   "cell_type": "code",
   "execution_count": 56,
   "metadata": {},
   "outputs": [],
   "source": [
    "#Sentence Embedding方法\n",
    "def SentenceEmbedding(Sentence):\n",
    "    pooler_list = []\n",
    "    token = tokenizer.tokenize(Sentence)\n",
    "    token_id = torch.tensor(tokenizer.convert_tokens_to_ids(token),dtype=torch.long)#轉tensor_id\n",
    "    a = torch.stack([token_id],0)#批量為了餵進去\n",
    "    #a.size()\n",
    "    m_output = model(a) #output=模型(商品a)\n",
    "    pooler_output = m_output.pooler_output[0] #Embedding\n",
    "    pooler_list = pooler_output.tolist() #將每個商品的pooler存進list (一個商品一個pooler_list)\n",
    "    return pooler_list\n",
    "    # return pooler_output"
   ]
  },
  {
   "cell_type": "code",
   "execution_count": 57,
   "metadata": {},
   "outputs": [
    {
     "name": "stderr",
     "output_type": "stream",
     "text": [
      "100%|██████████| 7073/7073 [05:26<00:00, 21.63it/s]\n"
     ]
    },
    {
     "data": {
      "text/plain": [
       "tensor([[-0.4864, -0.2212, -0.1302,  ...,  0.5933,  0.2597, -0.0747],\n",
       "        [-0.4599,  0.1498,  0.0521,  ...,  0.5583,  0.1279, -0.0263],\n",
       "        [-0.4599,  0.1498,  0.0521,  ...,  0.5583,  0.1279, -0.0263],\n",
       "        ...,\n",
       "        [-0.1588, -0.2790, -0.5487,  ...,  0.7015,  0.1883, -0.5079],\n",
       "        [-0.6714, -0.0716, -0.4129,  ...,  0.2451, -0.2641,  0.1432],\n",
       "        [-0.4976, -0.2168, -0.4448,  ...,  0.0794, -0.3012, -0.2559]])"
      ]
     },
     "execution_count": 57,
     "metadata": {},
     "output_type": "execute_result"
    }
   ],
   "source": [
    "m_output_list = []\n",
    "\n",
    "#Sentence Embedding for迴圈\n",
    "for i in tqdm(range(len(bert_input_df))):\n",
    "    input = bert_input_df['Label'][i]\n",
    "    pooler = SentenceEmbedding(input)\n",
    "    m_output_list.append(pooler)\n",
    "m_output_list = torch.tensor(m_output_list)\n",
    "m_output_list"
   ]
  },
  {
   "cell_type": "code",
   "execution_count": 58,
   "metadata": {},
   "outputs": [
    {
     "name": "stdout",
     "output_type": "stream",
     "text": [
      "<class 'torch.Tensor'>\n"
     ]
    }
   ],
   "source": [
    "print(type(m_output_list))"
   ]
  },
  {
   "cell_type": "code",
   "execution_count": 59,
   "metadata": {},
   "outputs": [
    {
     "data": {
      "text/plain": [
       "torch.Size([7073, 768])"
      ]
     },
     "execution_count": 59,
     "metadata": {},
     "output_type": "execute_result"
    }
   ],
   "source": [
    "m_output_list.shape"
   ]
  },
  {
   "cell_type": "code",
   "execution_count": 64,
   "metadata": {},
   "outputs": [
    {
     "name": "stderr",
     "output_type": "stream",
     "text": [
      "/var/folders/5b/gmxdy6dd0nb181cmtr2vfwrc0000gn/T/ipykernel_91201/472995950.py:8: SettingWithCopyWarning: \n",
      "A value is trying to be set on a copy of a slice from a DataFrame\n",
      "\n",
      "See the caveats in the documentation: https://pandas.pydata.org/pandas-docs/stable/user_guide/indexing.html#returning-a-view-versus-a-copy\n",
      "  df_e['Embedding'].loc[i] = embedding_tensor.numpy()\n"
     ]
    },
    {
     "data": {
      "text/html": [
       "<div>\n",
       "<style scoped>\n",
       "    .dataframe tbody tr th:only-of-type {\n",
       "        vertical-align: middle;\n",
       "    }\n",
       "\n",
       "    .dataframe tbody tr th {\n",
       "        vertical-align: top;\n",
       "    }\n",
       "\n",
       "    .dataframe thead th {\n",
       "        text-align: right;\n",
       "    }\n",
       "</style>\n",
       "<table border=\"1\" class=\"dataframe\">\n",
       "  <thead>\n",
       "    <tr style=\"text-align: right;\">\n",
       "      <th></th>\n",
       "      <th>index</th>\n",
       "      <th>Embedding</th>\n",
       "    </tr>\n",
       "  </thead>\n",
       "  <tbody>\n",
       "    <tr>\n",
       "      <th>0</th>\n",
       "      <td>0</td>\n",
       "      <td>[-0.48635778, -0.2212476, -0.13017419, -0.2163...</td>\n",
       "    </tr>\n",
       "    <tr>\n",
       "      <th>1</th>\n",
       "      <td>1</td>\n",
       "      <td>[-0.45990142, 0.14975274, 0.05209263, -0.41834...</td>\n",
       "    </tr>\n",
       "    <tr>\n",
       "      <th>2</th>\n",
       "      <td>2</td>\n",
       "      <td>[-0.45990142, 0.14975274, 0.05209263, -0.41834...</td>\n",
       "    </tr>\n",
       "    <tr>\n",
       "      <th>3</th>\n",
       "      <td>3</td>\n",
       "      <td>[-0.311757, -0.21486852, -0.3500943, 0.0212773...</td>\n",
       "    </tr>\n",
       "    <tr>\n",
       "      <th>4</th>\n",
       "      <td>4</td>\n",
       "      <td>[-0.27648675, -0.15781745, -0.34375563, -0.384...</td>\n",
       "    </tr>\n",
       "    <tr>\n",
       "      <th>...</th>\n",
       "      <td>...</td>\n",
       "      <td>...</td>\n",
       "    </tr>\n",
       "    <tr>\n",
       "      <th>7068</th>\n",
       "      <td>7068</td>\n",
       "      <td>[-0.34379295, -0.24786478, -0.5607268, 0.32104...</td>\n",
       "    </tr>\n",
       "    <tr>\n",
       "      <th>7069</th>\n",
       "      <td>7069</td>\n",
       "      <td>[-0.42296317, 0.1298256, -0.53158295, -0.04584...</td>\n",
       "    </tr>\n",
       "    <tr>\n",
       "      <th>7070</th>\n",
       "      <td>7070</td>\n",
       "      <td>[-0.15875424, -0.2789581, -0.548723, -0.362342...</td>\n",
       "    </tr>\n",
       "    <tr>\n",
       "      <th>7071</th>\n",
       "      <td>7071</td>\n",
       "      <td>[-0.67142737, -0.07158733, -0.41286844, -0.190...</td>\n",
       "    </tr>\n",
       "    <tr>\n",
       "      <th>7072</th>\n",
       "      <td>7072</td>\n",
       "      <td>[-0.4975894, -0.21681827, -0.44478935, 0.09404...</td>\n",
       "    </tr>\n",
       "  </tbody>\n",
       "</table>\n",
       "<p>7073 rows × 2 columns</p>\n",
       "</div>"
      ],
      "text/plain": [
       "      index                                          Embedding\n",
       "0         0  [-0.48635778, -0.2212476, -0.13017419, -0.2163...\n",
       "1         1  [-0.45990142, 0.14975274, 0.05209263, -0.41834...\n",
       "2         2  [-0.45990142, 0.14975274, 0.05209263, -0.41834...\n",
       "3         3  [-0.311757, -0.21486852, -0.3500943, 0.0212773...\n",
       "4         4  [-0.27648675, -0.15781745, -0.34375563, -0.384...\n",
       "...     ...                                                ...\n",
       "7068   7068  [-0.34379295, -0.24786478, -0.5607268, 0.32104...\n",
       "7069   7069  [-0.42296317, 0.1298256, -0.53158295, -0.04584...\n",
       "7070   7070  [-0.15875424, -0.2789581, -0.548723, -0.362342...\n",
       "7071   7071  [-0.67142737, -0.07158733, -0.41286844, -0.190...\n",
       "7072   7072  [-0.4975894, -0.21681827, -0.44478935, 0.09404...\n",
       "\n",
       "[7073 rows x 2 columns]"
      ]
     },
     "execution_count": 64,
     "metadata": {},
     "output_type": "execute_result"
    }
   ],
   "source": [
    "emb_dic = {}\n",
    "emb_dic['index'] = range(len(m_output_list))\n",
    "emb_dic['Embedding'] = []\n",
    "emb_dic['Embedding'] += m_output_list\n",
    "df_e = pd.DataFrame(emb_dic)\n",
    "for i in range(7073):\n",
    "    embedding_tensor = df_e['Embedding'].loc[i]\n",
    "    df_e['Embedding'].loc[i] = embedding_tensor.numpy()\n",
    "df_e"
   ]
  },
  {
   "cell_type": "code",
   "execution_count": 42,
   "metadata": {},
   "outputs": [
    {
     "data": {
      "text/plain": [
       "768"
      ]
     },
     "execution_count": 42,
     "metadata": {},
     "output_type": "execute_result"
    }
   ],
   "source": [
    "len(df_e['Embedding'][0])"
   ]
  },
  {
   "cell_type": "code",
   "execution_count": 65,
   "metadata": {},
   "outputs": [
    {
     "data": {
      "text/html": [
       "<div>\n",
       "<style scoped>\n",
       "    .dataframe tbody tr th:only-of-type {\n",
       "        vertical-align: middle;\n",
       "    }\n",
       "\n",
       "    .dataframe tbody tr th {\n",
       "        vertical-align: top;\n",
       "    }\n",
       "\n",
       "    .dataframe thead th {\n",
       "        text-align: right;\n",
       "    }\n",
       "</style>\n",
       "<table border=\"1\" class=\"dataframe\">\n",
       "  <thead>\n",
       "    <tr style=\"text-align: right;\">\n",
       "      <th></th>\n",
       "      <th>款號</th>\n",
       "      <th>Embedding</th>\n",
       "    </tr>\n",
       "  </thead>\n",
       "  <tbody>\n",
       "    <tr>\n",
       "      <th>0</th>\n",
       "      <td>AB0116</td>\n",
       "      <td>[-0.48635778, -0.2212476, -0.13017419, -0.2163...</td>\n",
       "    </tr>\n",
       "    <tr>\n",
       "      <th>1</th>\n",
       "      <td>AB0194</td>\n",
       "      <td>[-0.45990142, 0.14975274, 0.05209263, -0.41834...</td>\n",
       "    </tr>\n",
       "    <tr>\n",
       "      <th>2</th>\n",
       "      <td>AB0391</td>\n",
       "      <td>[-0.45990142, 0.14975274, 0.05209263, -0.41834...</td>\n",
       "    </tr>\n",
       "    <tr>\n",
       "      <th>3</th>\n",
       "      <td>AB0435</td>\n",
       "      <td>[-0.311757, -0.21486852, -0.3500943, 0.0212773...</td>\n",
       "    </tr>\n",
       "    <tr>\n",
       "      <th>4</th>\n",
       "      <td>AB0848</td>\n",
       "      <td>[-0.27648675, -0.15781745, -0.34375563, -0.384...</td>\n",
       "    </tr>\n",
       "    <tr>\n",
       "      <th>...</th>\n",
       "      <td>...</td>\n",
       "      <td>...</td>\n",
       "    </tr>\n",
       "    <tr>\n",
       "      <th>7068</th>\n",
       "      <td>QA1183</td>\n",
       "      <td>[-0.34379295, -0.24786478, -0.5607268, 0.32104...</td>\n",
       "    </tr>\n",
       "    <tr>\n",
       "      <th>7069</th>\n",
       "      <td>QA1185</td>\n",
       "      <td>[-0.42296317, 0.1298256, -0.53158295, -0.04584...</td>\n",
       "    </tr>\n",
       "    <tr>\n",
       "      <th>7070</th>\n",
       "      <td>QA1186</td>\n",
       "      <td>[-0.15875424, -0.2789581, -0.548723, -0.362342...</td>\n",
       "    </tr>\n",
       "    <tr>\n",
       "      <th>7071</th>\n",
       "      <td>QA1189</td>\n",
       "      <td>[-0.67142737, -0.07158733, -0.41286844, -0.190...</td>\n",
       "    </tr>\n",
       "    <tr>\n",
       "      <th>7072</th>\n",
       "      <td>QA1190</td>\n",
       "      <td>[-0.4975894, -0.21681827, -0.44478935, 0.09404...</td>\n",
       "    </tr>\n",
       "  </tbody>\n",
       "</table>\n",
       "<p>7073 rows × 2 columns</p>\n",
       "</div>"
      ],
      "text/plain": [
       "          款號                                          Embedding\n",
       "0     AB0116  [-0.48635778, -0.2212476, -0.13017419, -0.2163...\n",
       "1     AB0194  [-0.45990142, 0.14975274, 0.05209263, -0.41834...\n",
       "2     AB0391  [-0.45990142, 0.14975274, 0.05209263, -0.41834...\n",
       "3     AB0435  [-0.311757, -0.21486852, -0.3500943, 0.0212773...\n",
       "4     AB0848  [-0.27648675, -0.15781745, -0.34375563, -0.384...\n",
       "...      ...                                                ...\n",
       "7068  QA1183  [-0.34379295, -0.24786478, -0.5607268, 0.32104...\n",
       "7069  QA1185  [-0.42296317, 0.1298256, -0.53158295, -0.04584...\n",
       "7070  QA1186  [-0.15875424, -0.2789581, -0.548723, -0.362342...\n",
       "7071  QA1189  [-0.67142737, -0.07158733, -0.41286844, -0.190...\n",
       "7072  QA1190  [-0.4975894, -0.21681827, -0.44478935, 0.09404...\n",
       "\n",
       "[7073 rows x 2 columns]"
      ]
     },
     "execution_count": 65,
     "metadata": {},
     "output_type": "execute_result"
    }
   ],
   "source": [
    "all_mainID = pd.read_csv('all_mainID.csv')\n",
    "all_mainID['index'] = range(7073)\n",
    "merge_df = pd.merge(all_mainID, df_e, on = 'index')\n",
    "merge_df = merge_df.drop(['index'],axis=1)\n",
    "merge_df"
   ]
  },
  {
   "cell_type": "code",
   "execution_count": 66,
   "metadata": {},
   "outputs": [],
   "source": [
    "merge_df.to_pickle(\"all_embedding.pickle\")"
   ]
  },
  {
   "attachments": {},
   "cell_type": "markdown",
   "metadata": {},
   "source": [
    "將bert完的結果存成檔案"
   ]
  },
  {
   "cell_type": "code",
   "execution_count": 52,
   "metadata": {},
   "outputs": [],
   "source": [
    "df_e.to_csv(\"./EmbeddingResult/after_bert_embedding.csv\")\n",
    "df_e.to_pickle(\"./EmbeddingResult/after_bert_embedding.pkl\")"
   ]
  },
  {
   "cell_type": "code",
   "execution_count": 36,
   "metadata": {},
   "outputs": [],
   "source": [
    "np.save('all_embedding.npy', m_output_list.numpy())"
   ]
  },
  {
   "cell_type": "markdown",
   "metadata": {},
   "source": [
    "## 使用 DBScan 視覺化"
   ]
  },
  {
   "cell_type": "markdown",
   "metadata": {},
   "source": [
    "### t-SNE 降維"
   ]
  },
  {
   "cell_type": "code",
   "execution_count": 67,
   "metadata": {},
   "outputs": [],
   "source": [
    "from sklearn.manifold import TSNE\n",
    "import numpy as np\n",
    "\n",
    "embeddings = df_e['Embedding'].tolist() # 將所有的embedding取出\n",
    "embeddings = np.array(embeddings) # 轉成numpy格式"
   ]
  },
  {
   "cell_type": "code",
   "execution_count": 68,
   "metadata": {},
   "outputs": [
    {
     "data": {
      "text/plain": [
       "(7073, 768)"
      ]
     },
     "execution_count": 68,
     "metadata": {},
     "output_type": "execute_result"
    }
   ],
   "source": [
    "embeddings.shape"
   ]
  },
  {
   "attachments": {},
   "cell_type": "markdown",
   "metadata": {},
   "source": [
    "這邊都是直接抄你的，沒有改任何東西"
   ]
  },
  {
   "cell_type": "code",
   "execution_count": 69,
   "metadata": {},
   "outputs": [
    {
     "name": "stderr",
     "output_type": "stream",
     "text": [
      "/Users/oscarchou/anaconda3/envs/bert_env/lib/python3.8/site-packages/sklearn/manifold/_t_sne.py:780: FutureWarning: The default initialization in TSNE will change from 'random' to 'pca' in 1.2.\n",
      "  warnings.warn(\n",
      "/Users/oscarchou/anaconda3/envs/bert_env/lib/python3.8/site-packages/sklearn/manifold/_t_sne.py:790: FutureWarning: The default learning rate in TSNE will change from 200.0 to 'auto' in 1.2.\n",
      "  warnings.warn(\n"
     ]
    },
    {
     "ename": "",
     "evalue": "",
     "output_type": "error",
     "traceback": [
      "\u001b[1;31mCanceled future for execute_request message before replies were done"
     ]
    },
    {
     "ename": "",
     "evalue": "",
     "output_type": "error",
     "traceback": [
      "\u001b[1;31m在目前儲存格或上一個儲存格中執行程式碼時，Kernel 已損毀。請檢閱儲存格中的程式碼，找出失敗的可能原因。如需詳細資訊，請按一下<a href='https://aka.ms/vscodeJupyterKernelCrash'>這裡</a>。檢視 Jupyter <a href='command:jupyter.viewOutput'>記錄</a>，以取得進一步的詳細資料。"
     ]
    }
   ],
   "source": [
    "tsne = TSNE()\n",
    "tsne.fit_transform(embeddings)  # 进行数据降维\n",
    "\n",
    "# tsne.embedding_可以获得降维后的数据\n",
    "top_tsn =  tsne.embedding_  # 转换数据格式\n",
    "# print('tsne.embedding_: \\n', top_tsn)\n",
    "print(top_tsn.shape)"
   ]
  },
  {
   "cell_type": "code",
   "execution_count": 52,
   "metadata": {},
   "outputs": [
    {
     "data": {
      "text/plain": [
       "<matplotlib.collections.PathCollection at 0x17a156fd948>"
      ]
     },
     "execution_count": 52,
     "metadata": {},
     "output_type": "execute_result"
    },
    {
     "data": {
      "image/png": "[encoded data removed]",
      "text/plain": [
       "<Figure size 640x480 with 1 Axes>"
      ]
     },
     "metadata": {},
     "output_type": "display_data"
    }
   ],
   "source": [
    "import matplotlib.pyplot as plt\n",
    "from sklearn.cluster import DBSCAN\n",
    "import numpy as np\n",
    "\n",
    "X=embeddings\n",
    "# eps代表著圓的半徑，min_samples代表著以核心點為圓心的圓裡面所需包含的最小樣本數。\n",
    "clustering=DBSCAN(eps=0.8,min_samples=30).fit(X)\n",
    "clustering.labels_\n",
    "\n",
    "plt.scatter(X[:,0],X[:,1],c=clustering.labels_ ,s=1)"
   ]
  }
 ],
 "metadata": {
  "kernelspec": {
   "display_name": "pytorch",
   "language": "python",
   "name": "python3"
  },
  "language_info": {
   "codemirror_mode": {
    "name": "ipython",
    "version": 3
   },
   "file_extension": ".py",
   "mimetype": "text/x-python",
   "name": "python",
   "nbconvert_exporter": "python",
   "pygments_lexer": "ipython3",
   "version": "3.8.16"
  },
  "orig_nbformat": 4
 },
 "nbformat": 4,
 "nbformat_minor": 2
}
