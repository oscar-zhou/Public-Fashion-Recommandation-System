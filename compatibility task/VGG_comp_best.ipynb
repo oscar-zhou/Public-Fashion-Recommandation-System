{
 "cells": [
  {
   "cell_type": "code",
   "execution_count": 1,
   "metadata": {},
   "outputs": [
    {
     "name": "stderr",
     "output_type": "stream",
     "text": [
      "/opt/anaconda3/envs/torch8019/lib/python3.7/site-packages/tqdm/auto.py:22: TqdmWarning: IProgress not found. Please update jupyter and ipywidgets. See https://ipywidgets.readthedocs.io/en/stable/user_install.html\n",
      "  from .autonotebook import tqdm as notebook_tqdm\n"
     ]
    }
   ],
   "source": [
    "import torch"
   ]
  },
  {
   "cell_type": "code",
   "execution_count": 2,
   "metadata": {},
   "outputs": [],
   "source": [
    "import pandas as pd\n",
    "import torch\n",
    "from torchvision import transforms\n",
    "from PIL import Image\n",
    "import os\n",
    "from tqdm import tqdm\n",
    "import cv2\n",
    "import numpy as np\n",
    "from torchvision import datasets, transforms\n",
    "\n",
    "import torch.nn as nn\n",
    "import torch.nn.functional as F\n",
    "from torchvision import models\n",
    "import torch.optim as optim\n",
    "from torch.autograd import Variable\n",
    "\n"
   ]
  },
  {
   "cell_type": "code",
   "execution_count": null,
   "metadata": {},
   "outputs": [],
   "source": [
    "ss = pd.read_csv(\"21ss.csv\",encoding='utf-8')\n",
    "print(ss.head())\n",
    "print(ss.describe())"
   ]
  },
  {
   "cell_type": "code",
   "execution_count": null,
   "metadata": {},
   "outputs": [],
   "source": [
    "aw = pd.read_csv(\"20aw.csv\",encoding='utf-8')\n",
    "print(aw.head())\n",
    "print(aw.describe())"
   ]
  },
  {
   "cell_type": "code",
   "execution_count": null,
   "metadata": {},
   "outputs": [],
   "source": [
    "aw = pd.read_table(\"20aw.csv\",sep=',')\n",
    "print(aw.head())\n",
    "print(aw.describe())\n",
    "print(aw.info())"
   ]
  },
  {
   "cell_type": "code",
   "execution_count": null,
   "metadata": {},
   "outputs": [],
   "source": [
    "aw_ss = pd.concat([aw,ss],axis=0)\n",
    "aw_ss = aw_ss.reset_index(drop=True)\n",
    "aw_ss"
   ]
  },
  {
   "cell_type": "code",
   "execution_count": null,
   "metadata": {},
   "outputs": [],
   "source": [
    "aw_ss.to_csv(\"all_sample.csv\",encoding='utf-8')"
   ]
  },
  {
   "cell_type": "code",
   "execution_count": 3,
   "metadata": {},
   "outputs": [
    {
     "data": {
      "text/html": [
       "<div>\n",
       "<style scoped>\n",
       "    .dataframe tbody tr th:only-of-type {\n",
       "        vertical-align: middle;\n",
       "    }\n",
       "\n",
       "    .dataframe tbody tr th {\n",
       "        vertical-align: top;\n",
       "    }\n",
       "\n",
       "    .dataframe thead th {\n",
       "        text-align: right;\n",
       "    }\n",
       "</style>\n",
       "<table border=\"1\" class=\"dataframe\">\n",
       "  <thead>\n",
       "    <tr style=\"text-align: right;\">\n",
       "      <th></th>\n",
       "      <th>head_label</th>\n",
       "      <th>tail_label</th>\n",
       "      <th>head_name</th>\n",
       "      <th>tail_name</th>\n",
       "      <th>ans</th>\n",
       "    </tr>\n",
       "  </thead>\n",
       "  <tbody>\n",
       "    <tr>\n",
       "      <th>0</th>\n",
       "      <td>AB12289</td>\n",
       "      <td>BA6034</td>\n",
       "      <td>純色翻領壓褶貝殼排扣荷葉七分袖/短袖上衣</td>\n",
       "      <td>純色高含棉坑條燈芯絨腰鬆緊五分短寬褲</td>\n",
       "      <td>fit</td>\n",
       "    </tr>\n",
       "    <tr>\n",
       "      <th>1</th>\n",
       "      <td>AB12289</td>\n",
       "      <td>CA2163</td>\n",
       "      <td>純色翻領壓褶貝殼排扣荷葉七分袖/短袖上衣</td>\n",
       "      <td>優雅蕾絲不易皺後腰鬆緊斜開岔短裙</td>\n",
       "      <td>fit</td>\n",
       "    </tr>\n",
       "    <tr>\n",
       "      <th>2</th>\n",
       "      <td>AB12289</td>\n",
       "      <td>BA5836</td>\n",
       "      <td>純色翻領壓褶貝殼排扣荷葉七分袖/短袖上衣</td>\n",
       "      <td>柔軟質感天絲棉丹寧落地大寬褲</td>\n",
       "      <td>fit</td>\n",
       "    </tr>\n",
       "    <tr>\n",
       "      <th>3</th>\n",
       "      <td>AB12289</td>\n",
       "      <td>BA5840</td>\n",
       "      <td>純色翻領壓褶貝殼排扣荷葉七分袖/短袖上衣</td>\n",
       "      <td>簡約知性立挺打褶造型西裝短褲．附質感皮帶</td>\n",
       "      <td>fit</td>\n",
       "    </tr>\n",
       "    <tr>\n",
       "      <th>4</th>\n",
       "      <td>AB12289</td>\n",
       "      <td>BA5861</td>\n",
       "      <td>純色翻領壓褶貝殼排扣荷葉七分袖/短袖上衣</td>\n",
       "      <td>休閒彈力英字印花窄管緊身長褲內搭褲</td>\n",
       "      <td>not_fit</td>\n",
       "    </tr>\n",
       "    <tr>\n",
       "      <th>...</th>\n",
       "      <td>...</td>\n",
       "      <td>...</td>\n",
       "      <td>...</td>\n",
       "      <td>...</td>\n",
       "      <td>...</td>\n",
       "    </tr>\n",
       "    <tr>\n",
       "      <th>9995</th>\n",
       "      <td>KS0843</td>\n",
       "      <td>BA6277</td>\n",
       "      <td>下襬抽皺透氣吸濕無袖上衣/背心</td>\n",
       "      <td>滿版碎花吊帶連身寬版長褲</td>\n",
       "      <td>fit</td>\n",
       "    </tr>\n",
       "    <tr>\n",
       "      <th>9996</th>\n",
       "      <td>KS0843</td>\n",
       "      <td>BA6237</td>\n",
       "      <td>下襬抽皺透氣吸濕無袖上衣/背心</td>\n",
       "      <td>修身剪裁打褶不易皺直筒西裝褲</td>\n",
       "      <td>fit</td>\n",
       "    </tr>\n",
       "    <tr>\n",
       "      <th>9997</th>\n",
       "      <td>KS0843</td>\n",
       "      <td>BA6256</td>\n",
       "      <td>下襬抽皺透氣吸濕無袖上衣/背心</td>\n",
       "      <td>純色高含棉鬆緊腰抽皺口袋寬褲裙</td>\n",
       "      <td>fit</td>\n",
       "    </tr>\n",
       "    <tr>\n",
       "      <th>9998</th>\n",
       "      <td>KS0843</td>\n",
       "      <td>KS0819</td>\n",
       "      <td>下襬抽皺透氣吸濕無袖上衣/背心</td>\n",
       "      <td>造型褲口休閒長褲/運動長褲</td>\n",
       "      <td>fit</td>\n",
       "    </tr>\n",
       "    <tr>\n",
       "      <th>9999</th>\n",
       "      <td>KS0843</td>\n",
       "      <td>CA2313</td>\n",
       "      <td>下襬抽皺透氣吸濕無袖上衣/背心</td>\n",
       "      <td>鏤空蕾絲腰鬆緊A-LINE長裙</td>\n",
       "      <td>not_fit</td>\n",
       "    </tr>\n",
       "  </tbody>\n",
       "</table>\n",
       "<p>10000 rows × 5 columns</p>\n",
       "</div>"
      ],
      "text/plain": [
       "     head_label tail_label             head_name             tail_name  \\\n",
       "0       AB12289     BA6034  純色翻領壓褶貝殼排扣荷葉七分袖/短袖上衣    純色高含棉坑條燈芯絨腰鬆緊五分短寬褲   \n",
       "1       AB12289     CA2163  純色翻領壓褶貝殼排扣荷葉七分袖/短袖上衣      優雅蕾絲不易皺後腰鬆緊斜開岔短裙   \n",
       "2       AB12289     BA5836  純色翻領壓褶貝殼排扣荷葉七分袖/短袖上衣        柔軟質感天絲棉丹寧落地大寬褲   \n",
       "3       AB12289     BA5840  純色翻領壓褶貝殼排扣荷葉七分袖/短袖上衣  簡約知性立挺打褶造型西裝短褲．附質感皮帶   \n",
       "4       AB12289     BA5861  純色翻領壓褶貝殼排扣荷葉七分袖/短袖上衣     休閒彈力英字印花窄管緊身長褲內搭褲   \n",
       "...         ...        ...                   ...                   ...   \n",
       "9995     KS0843     BA6277       下襬抽皺透氣吸濕無袖上衣/背心          滿版碎花吊帶連身寬版長褲   \n",
       "9996     KS0843     BA6237       下襬抽皺透氣吸濕無袖上衣/背心        修身剪裁打褶不易皺直筒西裝褲   \n",
       "9997     KS0843     BA6256       下襬抽皺透氣吸濕無袖上衣/背心       純色高含棉鬆緊腰抽皺口袋寬褲裙   \n",
       "9998     KS0843     KS0819       下襬抽皺透氣吸濕無袖上衣/背心         造型褲口休閒長褲/運動長褲   \n",
       "9999     KS0843     CA2313       下襬抽皺透氣吸濕無袖上衣/背心       鏤空蕾絲腰鬆緊A-LINE長裙   \n",
       "\n",
       "          ans  \n",
       "0         fit  \n",
       "1         fit  \n",
       "2         fit  \n",
       "3         fit  \n",
       "4     not_fit  \n",
       "...       ...  \n",
       "9995      fit  \n",
       "9996      fit  \n",
       "9997      fit  \n",
       "9998      fit  \n",
       "9999  not_fit  \n",
       "\n",
       "[10000 rows x 5 columns]"
      ]
     },
     "execution_count": 3,
     "metadata": {},
     "output_type": "execute_result"
    }
   ],
   "source": [
    "#把wrong變成no_fit 因為wrong也算是no_fit\n",
    "all_sample=pd.read_csv(\"all_sample.csv\",index_col=0)\n",
    "all_sample['ans'] = all_sample['ans'].str.replace(\"wrong\",\"not_fit\")\n",
    "all_sample"
   ]
  },
  {
   "cell_type": "code",
   "execution_count": 4,
   "metadata": {},
   "outputs": [],
   "source": [
    "#fit 7015,no_fit 2181, wrong 804\n",
    "#all_sample=pd.read_csv(\"all_sample.csv\")\n",
    "\n",
    "negative_data=all_sample[all_sample[\"ans\"]==\"not_fit\"]\n",
    "postive_data=all_sample[all_sample[\"ans\"]==\"fit\"]\n",
    "\n",
    "\n",
    "#訓練80% 測試20%\n",
    "train_P=postive_data.sample(7015,random_state=178)#訓練5615 測試1400\n",
    "train_N=negative_data.sample(2985,random_state=198)#訓練2410 測試575\n",
    "test_P=train_P.sample(1400,random_state=73)\n",
    "test_N=train_N.sample(575,random_state=65)\n",
    "\n",
    "train_P=train_P.drop(test_P.index)\n",
    "train_N=train_N.drop(test_N.index)\n",
    "#source上身代碼#下身代碼\n",
    "train_P=train_P.sort_values(by=[\"head_label\",\"tail_label\"]).reset_index(drop=True)\n",
    "train_N=train_N.sort_values(by=[\"head_label\",\"tail_label\"]).reset_index(drop=True)\n",
    "test_P=test_P.sort_values(by=[\"head_label\",\"tail_label\"]).reset_index(drop=True)\n",
    "test_N=test_N.sort_values(by=[\"head_label\",\"tail_label\"]).reset_index(drop=True)"
   ]
  },
  {
   "cell_type": "code",
   "execution_count": 5,
   "metadata": {},
   "outputs": [],
   "source": [
    "#transform可以旋轉 縮放\n",
    "transform=transforms.Compose([\n",
    "    transforms.Resize(224), #缩放图片，保持长宽比不变，最短边的长为224像素,\n",
    "    transforms.CenterCrop([150,224]), #中心裁剪，从中间切出 150*224的图片\n",
    "])\n"
   ]
  },
  {
   "cell_type": "code",
   "execution_count": null,
   "metadata": {},
   "outputs": [],
   "source": [
    "#把秋冬跟春夏資料及底下的子資料夾所有圖片都放在一起(會有重複的圖片)\n",
    "#順便把圖片名稱改成單純編號\n",
    "os.mkdir(\"OB_imgs\")\n",
    "save_dir = \"OB_imgs/\"\n",
    "aw_dir = os.listdir(\"20aw/fit\")\n",
    "ss_dir = os.listdir(\"21ss/fit\")\n",
    "aw_label = aw[['head_label','tail_label']]\n",
    "ss_label = ss[['head_label','tail_label']]\n",
    "t_rec = []\n",
    "b_rec = []\n",
    "\n",
    "for i,fit in enumerate(tqdm(aw_dir)):\n",
    "    path = \"20aw/fit/\" + fit\n",
    "    fit_list = os.listdir(path)\n",
    "    t = aw_label.iloc[i][0]\n",
    "    b = aw_label.iloc[i][1]\n",
    "    if fit_list[0].startswith(t):\n",
    "        if t not in t_rec:\n",
    "            os.rename(f'{path}/{fit_list[0]}',f'{save_dir}/{t}.png')\n",
    "            t_rec.append(t)\n",
    "        if b not in b_rec:\n",
    "            os.rename(f'{path}/{fit_list[1]}',f'{save_dir}/{b}.png')\n",
    "            b_rec.append(b)\n",
    "    elif fit_list[0].startswith(b):\n",
    "        if b not in b_rec:\n",
    "            os.rename(f'{path}/{fit_list[0]}',f'{save_dir}/{b}.png')\n",
    "            b_rec.append(b)\n",
    "        if t not in t_rec:\n",
    "            os.rename(f'{path}/{fit_list[1]}',f'{save_dir}/{t}.png')\n",
    "            t_rec.append(t)\n",
    "    \n",
    "for j,fit in enumerate(tqdm(ss_dir)):\n",
    "    path = \"21ss/fit/\" + fit\n",
    "    fit_list = os.listdir(path)\n",
    "    t = ss_label.iloc[j][0]\n",
    "    b = ss_label.iloc[j][1]\n",
    "    if fit_list[0].startswith(t):\n",
    "        if t not in t_rec:\n",
    "            os.rename(f'{path}/{fit_list[0]}',f'{save_dir}/{t}.png')\n",
    "            t_rec.append(t)\n",
    "        if b not in b_rec:\n",
    "            os.rename(f'{path}/{fit_list[1]}',f'{save_dir}/{b}.png')\n",
    "            b_rec.append(b)\n",
    "    elif fit_list[0].startswith(b):\n",
    "        if b not in b_rec:\n",
    "            os.rename(f'{path}/{fit_list[0]}',f'{save_dir}/{b}.png')\n",
    "            b_rec.append(b)\n",
    "        if t not in t_rec:\n",
    "            os.rename(f'{path}/{fit_list[1]}',f'{save_dir}/{t}.png')\n",
    "            t_rec.append(t)\n",
    "    \n",
    "    \n",
    "    "
   ]
  },
  {
   "cell_type": "code",
   "execution_count": 9,
   "metadata": {},
   "outputs": [
    {
     "name": "stderr",
     "output_type": "stream",
     "text": [
      "100%|██████████| 1579/1579 [00:45<00:00, 34.83it/s]\n"
     ]
    }
   ],
   "source": [
    "imgs=os.listdir(\"OB_imgs\")#回傳該路徑下有哪些檔案\n",
    "pbar=tqdm(total=len(imgs))\n",
    "for img in imgs:\n",
    "    path=\"OB_imgs/\"+img\n",
    "    pil_img=Image.open(path)\n",
    "    ttt=transform(pil_img)\n",
    "    save_dir=\"crop_img_test/\"+img\n",
    "    ttt.save(save_dir)\n",
    "    pbar.update(1)\n",
    "\n",
    "pbar.close()\n",
    "    "
   ]
  },
  {
   "cell_type": "code",
   "execution_count": 10,
   "metadata": {},
   "outputs": [],
   "source": [
    "def v_merge_img(data_df):\n",
    "    source=list(data_df[\"head_label\"])\n",
    "    target=list(data_df[\"tail_label\"])\n",
    "    type=list(data_df[\"ans\"])[0]\n",
    "    if(len(data_df)==5615 and type==\"fit\"):\n",
    "        folder_name=\"train/fit\"\n",
    "    elif(len(data_df)==2410 and type==\"not_fit\"):\n",
    "        folder_name=\"train/not_fit\"\n",
    "    elif(len(data_df)==1400 and type==\"fit\"):\n",
    "        folder_name=\"test/fit\"\n",
    "    elif(len(data_df)==575 and type==\"not_fit\"):\n",
    "        folder_name=\"test/not_fit\"\n",
    "\n",
    "    if (os.path.exists(folder_name)==False):\n",
    "        os.mkdir(folder_name)\n",
    "\n",
    "    for i,top in enumerate(source):\n",
    "        top_dir=\"crop_img_test/\"+top+\".png\"\n",
    "        bottom_dir=\"crop_img_test/\"+target[i]+\".png\"\n",
    "        #用opencv讀取圖片\n",
    "        top_img = cv2.imread(top_dir)\n",
    "        bottom_img = cv2.imread(bottom_dir)\n",
    "        fit_img = np.vstack([top_img, bottom_img])  # 垂直拼接，變成上下兩個組圖\n",
    "\n",
    "        fit_img_dir=folder_name+\"/fit\"+str(i)+\".png\"\n",
    "        cv2.imwrite(fit_img_dir,fit_img)\n",
    "        \n",
    "   \n"
   ]
  },
  {
   "cell_type": "code",
   "execution_count": 12,
   "metadata": {},
   "outputs": [],
   "source": [
    "v_merge_img(test_P)\n",
    "v_merge_img(test_N)\n",
    "\n",
    "v_merge_img(train_P)\n",
    "v_merge_img(train_N)\n"
   ]
  },
  {
   "cell_type": "code",
   "execution_count": 5,
   "metadata": {},
   "outputs": [],
   "source": [
    "transform2=transforms.Compose([#compose可以把調整方法串接起來\n",
    "    transforms.Resize([224,224]), #缩放图片，保持长宽比不变，最短边的长为224像素, VGG的輸入規定格式\n",
    "    transforms.ToTensor(), #將圖片或是ndarray轉換成Tensor,除255歸一化至[0,1]\n",
    "    transforms.Normalize(mean=[.5,.5,.5],std=[.5,.5,.5]) #標準化至[-1,1]其實並非到0~1之間，模型才容易收斂 mean變成0 std變成1\n",
    "])\n",
    "\n",
    "batch_size=64 #原本16，建議設2的n次方，較有效率\n",
    "\n",
    "train_dir = \"train\"           \n",
    "#定義數據集\n",
    "train_datasets = datasets.ImageFolder(train_dir, transform=transform2)\n",
    "#加載數據集\n",
    "train_dataloader = torch.utils.data.DataLoader(train_datasets, batch_size=batch_size, shuffle=True)\n",
    "\n",
    "val_dir = \"test\"\t\t\n",
    "val_datasets = datasets.ImageFolder(val_dir, transform=transform2)\n",
    "val_dataloader = torch.utils.data.DataLoader(val_datasets, batch_size=batch_size, shuffle=False)"
   ]
  },
  {
   "cell_type": "code",
   "execution_count": 19,
   "metadata": {},
   "outputs": [],
   "source": [
    "class VGGNet(nn.Module):\n",
    "    def __init__(self, num_classes=2):\n",
    "        super(VGGNet, self).__init__()\n",
    "        net = models.vgg16(pretrained=False)\n",
    "        net.classifier = nn.Sequential()\n",
    "        self.features = net\n",
    "        self.classifier = nn.Sequential(\n",
    "                nn.Linear(512 * 7 * 7, 512),\n",
    "                nn.ReLU(True),\n",
    "                nn.Dropout(),\n",
    "                nn.Linear(512, 128),\n",
    "                nn.ReLU(True),\n",
    "                nn.Dropout(),\n",
    "                nn.Linear(128, num_classes),#原num_classes 因BCE input只能1\n",
    "        )\n",
    "\n",
    "    def forward(self, x):\n",
    "        x = self.features(x)\n",
    "        x = x.view(x.size(0), -1)\n",
    "        x = self.classifier(x)\n",
    "        return x"
   ]
  },
  {
   "cell_type": "code",
   "execution_count": 20,
   "metadata": {},
   "outputs": [
    {
     "name": "stdout",
     "output_type": "stream",
     "text": [
      "VGGNet(\n",
      "  (features): VGG(\n",
      "    (features): Sequential(\n",
      "      (0): Conv2d(3, 64, kernel_size=(3, 3), stride=(1, 1), padding=(1, 1))\n",
      "      (1): ReLU(inplace=True)\n",
      "      (2): Conv2d(64, 64, kernel_size=(3, 3), stride=(1, 1), padding=(1, 1))\n",
      "      (3): ReLU(inplace=True)\n",
      "      (4): MaxPool2d(kernel_size=2, stride=2, padding=0, dilation=1, ceil_mode=False)\n",
      "      (5): Conv2d(64, 128, kernel_size=(3, 3), stride=(1, 1), padding=(1, 1))\n",
      "      (6): ReLU(inplace=True)\n",
      "      (7): Conv2d(128, 128, kernel_size=(3, 3), stride=(1, 1), padding=(1, 1))\n",
      "      (8): ReLU(inplace=True)\n",
      "      (9): MaxPool2d(kernel_size=2, stride=2, padding=0, dilation=1, ceil_mode=False)\n",
      "      (10): Conv2d(128, 256, kernel_size=(3, 3), stride=(1, 1), padding=(1, 1))\n",
      "      (11): ReLU(inplace=True)\n",
      "      (12): Conv2d(256, 256, kernel_size=(3, 3), stride=(1, 1), padding=(1, 1))\n",
      "      (13): ReLU(inplace=True)\n",
      "      (14): Conv2d(256, 256, kernel_size=(3, 3), stride=(1, 1), padding=(1, 1))\n",
      "      (15): ReLU(inplace=True)\n",
      "      (16): MaxPool2d(kernel_size=2, stride=2, padding=0, dilation=1, ceil_mode=False)\n",
      "      (17): Conv2d(256, 512, kernel_size=(3, 3), stride=(1, 1), padding=(1, 1))\n",
      "      (18): ReLU(inplace=True)\n",
      "      (19): Conv2d(512, 512, kernel_size=(3, 3), stride=(1, 1), padding=(1, 1))\n",
      "      (20): ReLU(inplace=True)\n",
      "      (21): Conv2d(512, 512, kernel_size=(3, 3), stride=(1, 1), padding=(1, 1))\n",
      "      (22): ReLU(inplace=True)\n",
      "      (23): MaxPool2d(kernel_size=2, stride=2, padding=0, dilation=1, ceil_mode=False)\n",
      "      (24): Conv2d(512, 512, kernel_size=(3, 3), stride=(1, 1), padding=(1, 1))\n",
      "      (25): ReLU(inplace=True)\n",
      "      (26): Conv2d(512, 512, kernel_size=(3, 3), stride=(1, 1), padding=(1, 1))\n",
      "      (27): ReLU(inplace=True)\n",
      "      (28): Conv2d(512, 512, kernel_size=(3, 3), stride=(1, 1), padding=(1, 1))\n",
      "      (29): ReLU(inplace=True)\n",
      "      (30): MaxPool2d(kernel_size=2, stride=2, padding=0, dilation=1, ceil_mode=False)\n",
      "    )\n",
      "    (avgpool): AdaptiveAvgPool2d(output_size=(7, 7))\n",
      "    (classifier): Sequential(\n",
      "      (0): Linear(in_features=25088, out_features=4096, bias=True)\n",
      "      (1): ReLU(inplace=True)\n",
      "      (2): Dropout(p=0.5, inplace=False)\n",
      "      (3): Linear(in_features=4096, out_features=4096, bias=True)\n",
      "      (4): ReLU(inplace=True)\n",
      "      (5): Dropout(p=0.5, inplace=False)\n",
      "      (6): Linear(in_features=4096, out_features=1000, bias=True)\n",
      "    )\n",
      "  )\n",
      "  (classifier): Sequential(\n",
      "    (0): Linear(in_features=25088, out_features=512, bias=True)\n",
      "    (1): ReLU(inplace=True)\n",
      "    (2): Dropout(p=0.5, inplace=False)\n",
      "    (3): Linear(in_features=512, out_features=128, bias=True)\n",
      "    (4): ReLU(inplace=True)\n",
      "    (5): Dropout(p=0.5, inplace=False)\n",
      "    (6): Linear(in_features=128, out_features=2, bias=True)\n",
      "  )\n",
      ")\n"
     ]
    }
   ],
   "source": [
    "print(VGGNet())"
   ]
  },
  {
   "cell_type": "code",
   "execution_count": 7,
   "metadata": {},
   "outputs": [],
   "source": [
    "# #Focal Loss\n",
    "# class FocalLoss(nn.Module):\n",
    "#     def __init__(self, alpha=.25, gamma=2):\n",
    "#             super(FocalLoss, self).__init__()        \n",
    "#             self.alpha = torch.tensor([alpha, 1-alpha]).cuda()        \n",
    "#             self.gamma = gamma\n",
    "            \n",
    "#     def forward(self, output, label):\n",
    "#             output_sq = output.squeeze(1)\n",
    "#             BCE_loss = F.binary_cross_entropy_with_logits(output_sq, label.float(), reduction='none')        \n",
    "#             #label = label.type(torch.long)        \n",
    "#             at = self.alpha.gather(0, label.data.view(-1))        \n",
    "#             pt = torch.exp(-BCE_loss)        \n",
    "#             F_loss = at*(1-pt)**self.gamma * BCE_loss        \n",
    "#             return F_loss.mean()"
   ]
  },
  {
   "cell_type": "code",
   "execution_count": 7,
   "metadata": {},
   "outputs": [],
   "source": [
    "class FocalLoss(nn.Module):\n",
    "    def __init__(self, gamma=2, alpha=.25, reduction='mean'):\n",
    "        super(FocalLoss, self).__init__()\n",
    "        self.gamma = gamma\n",
    "        self.alpha = alpha\n",
    "        if isinstance(alpha, (float, int)): self.alpha = torch.tensor([alpha, 1 - alpha])\n",
    "        if isinstance(alpha, list): self.alpha = torch.tensor(alpha)\n",
    "        self.reduction = reduction\n",
    "\n",
    "    def forward(self, inputs, targets):\n",
    "        CE_loss = F.cross_entropy(inputs, targets, reduction='none')\n",
    "        pt = torch.exp(-CE_loss)\n",
    "        focal_loss = (1 - pt) ** self.gamma * CE_loss\n",
    "\n",
    "        if self.alpha is not None:\n",
    "            if self.alpha.device != inputs.device:\n",
    "                self.alpha = self.alpha.to(inputs.device)\n",
    "            focal_loss = self.alpha[targets] * focal_loss\n",
    "\n",
    "        if self.reduction == 'mean':\n",
    "            return torch.mean(focal_loss)\n",
    "        elif self.reduction == 'sum':\n",
    "            return torch.sum(focal_loss)\n",
    "        else:\n",
    "            return focal_loss"
   ]
  },
  {
   "cell_type": "code",
   "execution_count": null,
   "metadata": {},
   "outputs": [],
   "source": [
    "#釋放無用的內存\n",
    "#if hasattr(torch.cuda,'empty_cache'):\n",
    "#torch.cuda.empty_cache()"
   ]
  },
  {
   "cell_type": "code",
   "execution_count": 8,
   "metadata": {},
   "outputs": [
    {
     "name": "stderr",
     "output_type": "stream",
     "text": [
      "c:\\Users\\chou0\\miniconda3\\envs\\pytorch8019\\lib\\site-packages\\torchvision\\models\\_utils.py:208: UserWarning: The parameter 'pretrained' is deprecated since 0.13 and may be removed in the future, please use 'weights' instead.\n",
      "  warnings.warn(\n",
      "c:\\Users\\chou0\\miniconda3\\envs\\pytorch8019\\lib\\site-packages\\torchvision\\models\\_utils.py:223: UserWarning: Arguments other than a weight enum or `None` for 'weights' are deprecated since 0.13 and may be removed in the future. The current behavior is equivalent to passing `weights=None`.\n",
      "  warnings.warn(msg)\n"
     ]
    },
    {
     "name": "stdout",
     "output_type": "stream",
     "text": [
      "epoch 1\n"
     ]
    },
    {
     "name": "stderr",
     "output_type": "stream",
     "text": [
      "100%|██████████| 126/126 [01:29<00:00,  1.40it/s]\n"
     ]
    },
    {
     "name": "stdout",
     "output_type": "stream",
     "text": [
      "Train Loss: 0.001076, Acc: 0.327850\n",
      "Test Loss: 0.001065, Acc: 0.291139\n",
      "epoch 2\n"
     ]
    },
    {
     "name": "stderr",
     "output_type": "stream",
     "text": [
      "100%|██████████| 126/126 [01:28<00:00,  1.43it/s]\n"
     ]
    },
    {
     "name": "stdout",
     "output_type": "stream",
     "text": [
      "Train Loss: 0.001072, Acc: 0.305171\n",
      "Test Loss: 0.001069, Acc: 0.291139\n",
      "epoch 3\n"
     ]
    },
    {
     "name": "stderr",
     "output_type": "stream",
     "text": [
      "100%|██████████| 126/126 [01:27<00:00,  1.44it/s]\n"
     ]
    },
    {
     "name": "stdout",
     "output_type": "stream",
     "text": [
      "Train Loss: 0.001063, Acc: 0.383302\n",
      "Test Loss: 0.001023, Acc: 0.508861\n",
      "epoch 4\n"
     ]
    },
    {
     "name": "stderr",
     "output_type": "stream",
     "text": [
      "100%|██████████| 126/126 [01:27<00:00,  1.44it/s]\n"
     ]
    },
    {
     "name": "stdout",
     "output_type": "stream",
     "text": [
      "Train Loss: 0.001038, Acc: 0.498193\n",
      "Test Loss: 0.000991, Acc: 0.600506\n",
      "epoch 5\n"
     ]
    },
    {
     "name": "stderr",
     "output_type": "stream",
     "text": [
      "100%|██████████| 126/126 [01:23<00:00,  1.52it/s]\n"
     ]
    },
    {
     "name": "stdout",
     "output_type": "stream",
     "text": [
      "Train Loss: 0.000971, Acc: 0.615202\n",
      "Test Loss: 0.000915, Acc: 0.657722\n",
      "epoch 6\n"
     ]
    },
    {
     "name": "stderr",
     "output_type": "stream",
     "text": [
      "100%|██████████| 126/126 [01:22<00:00,  1.52it/s]\n"
     ]
    },
    {
     "name": "stdout",
     "output_type": "stream",
     "text": [
      "Train Loss: 0.000905, Acc: 0.647726\n",
      "Test Loss: 0.000881, Acc: 0.683038\n",
      "epoch 7\n"
     ]
    },
    {
     "name": "stderr",
     "output_type": "stream",
     "text": [
      "100%|██████████| 126/126 [01:22<00:00,  1.52it/s]\n"
     ]
    },
    {
     "name": "stdout",
     "output_type": "stream",
     "text": [
      "Train Loss: 0.000815, Acc: 0.719502\n",
      "Test Loss: 0.000837, Acc: 0.685063\n",
      "epoch 8\n"
     ]
    },
    {
     "name": "stderr",
     "output_type": "stream",
     "text": [
      "100%|██████████| 126/126 [01:22<00:00,  1.52it/s]\n"
     ]
    },
    {
     "name": "stdout",
     "output_type": "stream",
     "text": [
      "Train Loss: 0.000714, Acc: 0.768349\n",
      "Test Loss: 0.000706, Acc: 0.757468\n",
      "epoch 9\n"
     ]
    },
    {
     "name": "stderr",
     "output_type": "stream",
     "text": [
      "100%|██████████| 126/126 [01:22<00:00,  1.52it/s]\n"
     ]
    },
    {
     "name": "stdout",
     "output_type": "stream",
     "text": [
      "Train Loss: 0.000607, Acc: 0.816075\n",
      "Test Loss: 0.000726, Acc: 0.818228\n",
      "epoch 10\n"
     ]
    },
    {
     "name": "stderr",
     "output_type": "stream",
     "text": [
      "100%|██████████| 126/126 [01:22<00:00,  1.52it/s]\n"
     ]
    },
    {
     "name": "stdout",
     "output_type": "stream",
     "text": [
      "Train Loss: 0.000515, Acc: 0.848349\n",
      "Test Loss: 0.000661, Acc: 0.824810\n",
      "epoch 11\n"
     ]
    },
    {
     "name": "stderr",
     "output_type": "stream",
     "text": [
      "100%|██████████| 126/126 [01:22<00:00,  1.52it/s]\n"
     ]
    },
    {
     "name": "stdout",
     "output_type": "stream",
     "text": [
      "Train Loss: 0.000449, Acc: 0.868660\n",
      "Test Loss: 0.000733, Acc: 0.795949\n",
      "epoch 12\n"
     ]
    },
    {
     "name": "stderr",
     "output_type": "stream",
     "text": [
      "100%|██████████| 126/126 [01:22<00:00,  1.52it/s]\n"
     ]
    },
    {
     "name": "stdout",
     "output_type": "stream",
     "text": [
      "Train Loss: 0.000376, Acc: 0.889969\n",
      "Test Loss: 0.000744, Acc: 0.840000\n",
      "epoch 13\n"
     ]
    },
    {
     "name": "stderr",
     "output_type": "stream",
     "text": [
      "100%|██████████| 126/126 [01:22<00:00,  1.52it/s]\n"
     ]
    },
    {
     "name": "stdout",
     "output_type": "stream",
     "text": [
      "Train Loss: 0.000321, Acc: 0.909907\n",
      "Test Loss: 0.000757, Acc: 0.783797\n",
      "epoch 14\n"
     ]
    },
    {
     "name": "stderr",
     "output_type": "stream",
     "text": [
      "100%|██████████| 126/126 [01:22<00:00,  1.52it/s]\n"
     ]
    },
    {
     "name": "stdout",
     "output_type": "stream",
     "text": [
      "Train Loss: 0.000283, Acc: 0.920249\n",
      "Test Loss: 0.000883, Acc: 0.832911\n",
      "epoch 15\n"
     ]
    },
    {
     "name": "stderr",
     "output_type": "stream",
     "text": [
      "100%|██████████| 126/126 [01:22<00:00,  1.52it/s]\n"
     ]
    },
    {
     "name": "stdout",
     "output_type": "stream",
     "text": [
      "Train Loss: 0.000244, Acc: 0.932461\n",
      "Test Loss: 0.001068, Acc: 0.845063\n",
      "epoch 16\n"
     ]
    },
    {
     "name": "stderr",
     "output_type": "stream",
     "text": [
      "100%|██████████| 126/126 [01:22<00:00,  1.52it/s]\n"
     ]
    },
    {
     "name": "stdout",
     "output_type": "stream",
     "text": [
      "Train Loss: 0.000196, Acc: 0.945670\n",
      "Test Loss: 0.001097, Acc: 0.844557\n",
      "epoch 17\n"
     ]
    },
    {
     "name": "stderr",
     "output_type": "stream",
     "text": [
      "100%|██████████| 126/126 [01:22<00:00,  1.52it/s]\n"
     ]
    },
    {
     "name": "stdout",
     "output_type": "stream",
     "text": [
      "Train Loss: 0.000166, Acc: 0.955888\n",
      "Test Loss: 0.001117, Acc: 0.845063\n",
      "epoch 18\n"
     ]
    },
    {
     "name": "stderr",
     "output_type": "stream",
     "text": [
      "100%|██████████| 126/126 [01:22<00:00,  1.52it/s]\n"
     ]
    },
    {
     "name": "stdout",
     "output_type": "stream",
     "text": [
      "Train Loss: 0.000151, Acc: 0.961371\n",
      "Test Loss: 0.001535, Acc: 0.835949\n",
      "epoch 19\n"
     ]
    },
    {
     "name": "stderr",
     "output_type": "stream",
     "text": [
      "100%|██████████| 126/126 [01:22<00:00,  1.52it/s]\n"
     ]
    },
    {
     "name": "stdout",
     "output_type": "stream",
     "text": [
      "Train Loss: 0.000091, Acc: 0.977695\n",
      "Test Loss: 0.001624, Acc: 0.849114\n",
      "epoch 20\n"
     ]
    },
    {
     "name": "stderr",
     "output_type": "stream",
     "text": [
      "100%|██████████| 126/126 [01:22<00:00,  1.52it/s]\n"
     ]
    },
    {
     "name": "stdout",
     "output_type": "stream",
     "text": [
      "Train Loss: 0.000097, Acc: 0.976698\n",
      "Test Loss: 0.001610, Acc: 0.836456\n"
     ]
    }
   ],
   "source": [
    "learning_rate = 5e-5#5的負5次方\n",
    "epoch = 20#如果overfitting的話，可以找train跟test都在高峰的epoch，就不要那麼多次epoch\n",
    "\n",
    "model = VGGNet()\n",
    "if torch.cuda.is_available():\n",
    "    model.cuda()\n",
    "params = [{'params': md.parameters()} for md in model.children()\n",
    "          if md in [model.classifier]]\n",
    "optimizer = optim.Adam(model.parameters(), lr=learning_rate)\n",
    "#loss_func = nn.CrossEntropyLoss()#可以改成focal loss 更多注意在負樣本\n",
    "loss_func = FocalLoss()\n",
    "\n",
    "model.train()\n",
    "\n",
    "loss_list = []\n",
    "accuracy_list = []\n",
    "tr_loss_list = []\n",
    "tr_accuracy_list = []\n",
    "\n",
    "for i in range(epoch):\n",
    "    print('epoch {}'.format(i + 1))\n",
    "    train_loss = 0.\n",
    "    train_acc = 0.\n",
    "    pbar=tqdm(total=len(train_dataloader))\n",
    "    for img, label in train_dataloader:\n",
    "        img = Variable(img).cuda()\n",
    "        label = Variable(label).cuda()\n",
    "        optimizer.zero_grad()\n",
    "        output = model(img)\n",
    "        loss = loss_func(output, label)\n",
    "        train_loss += loss.item()\n",
    "        pred = torch.max(output, 1)[1]\n",
    "        train_correct = (pred == label).sum()\n",
    "        train_acc += train_correct.item()\n",
    "        loss.backward()\n",
    "        optimizer.step()\n",
    "        pbar.update(1)\n",
    "    pbar.close()\n",
    "\n",
    "    print('Train Loss: {:.6f}, Acc: {:.6f}'.format(train_loss / (len(train_datasets)), train_acc / (len(train_datasets))))\n",
    "    tr_loss_list.append(train_loss / (len(train_datasets)))\n",
    "    tr_accuracy_list.append(100 * train_acc / (len(train_datasets)))\n",
    "\n",
    "    # evaluation--------------------------------\n",
    "    model.eval()\n",
    "    eval_loss = 0.\n",
    "    eval_acc = 0.\n",
    "    #混淆矩陣要用得list\n",
    "    y_true=[]\n",
    "    y_pred=[]\n",
    "    for img, label in val_dataloader:\n",
    "        img = Variable(img).cuda()\n",
    "        label = Variable(label).cuda()\n",
    "        out = model(img)\n",
    "        loss = loss_func(out, label)\n",
    "        eval_loss += loss.item()\n",
    "        pred = torch.max(out, 1)[1]\n",
    "        num_correct = (pred == label).sum()\n",
    "        eval_acc += num_correct.item()\n",
    "        #混淆矩陣\n",
    "        y_true.extend(label.cpu().tolist())\n",
    "        y_pred.extend(pred.cpu().tolist())\n",
    "    print('Test Loss: {:.6f}, Acc: {:.6f}'.format(eval_loss / (len(val_datasets)), eval_acc / (len(val_datasets))))\n",
    "    loss_list.append(eval_loss / (len(val_datasets)))\n",
    "    accuracy_list.append(100 * eval_acc / (len(val_datasets)))"
   ]
  },
  {
   "cell_type": "code",
   "execution_count": 9,
   "metadata": {},
   "outputs": [
    {
     "data": {
      "image/png": "[encoded data removed]",
      "text/plain": [
       "<Figure size 640x480 with 2 Axes>"
      ]
     },
     "metadata": {},
     "output_type": "display_data"
    }
   ],
   "source": [
    "import matplotlib.pyplot as plt\n",
    "\n",
    "x1 = range(0, 20)\n",
    "x2 = range(0, 20)\n",
    "y1 = accuracy_list\n",
    "y2 = loss_list\n",
    "plt.subplot(2, 1, 1)\n",
    "plt.plot(x1, y1, 'o-')\n",
    "plt.title('Test accuracy vs. epoches')\n",
    "plt.ylabel('Test accuracy')\n",
    "plt.subplot(2, 1, 2)\n",
    "plt.plot(x2, y2, '.-')\n",
    "plt.xlabel('Test loss vs. epoches')\n",
    "plt.ylabel('Test loss')\n",
    "plt.show()\n",
    "# plt.savefig(\"accuracy_loss.jpg\")\n"
   ]
  },
  {
   "cell_type": "code",
   "execution_count": 10,
   "metadata": {},
   "outputs": [
    {
     "data": {
      "image/png": "[encoded data removed]",
      "text/plain": [
       "<Figure size 640x480 with 1 Axes>"
      ]
     },
     "metadata": {},
     "output_type": "display_data"
    }
   ],
   "source": [
    "#distplot\n",
    "import matplotlib.pyplot as plt\n",
    "epochs =[i+1 for i in range(20)]\n",
    "plt.plot(epochs,tr_loss_list, color='red', label='Train')\n",
    "plt.plot(epochs,loss_list, '--', color='blue', label='Valid')\n",
    "#plt.title('CrossEntropy') # title\n",
    "plt.ylabel(\"Loss\") # y label\n",
    "plt.xlabel(\"Epochs\") # x label\n",
    "plt.legend() #圖例\n",
    "#plt.savefig('.\\\\Model\\\\0618\\\\t_model_' + str(isbalence) + 'bz' + str(batch_sizes) + '_' + str(num_epochs) + '.png') #儲存圖檔\n",
    "#plt.savefig('.\\\\Model\\\\0618\\\\實驗' + str(testnum) + '.png') #儲存圖檔\n",
    "plt.show()"
   ]
  },
  {
   "cell_type": "code",
   "execution_count": 11,
   "metadata": {},
   "outputs": [
    {
     "data": {
      "image/png": "[encoded data removed]",
      "text/plain": [
       "<Figure size 640x480 with 1 Axes>"
      ]
     },
     "metadata": {},
     "output_type": "display_data"
    }
   ],
   "source": [
    "#distplot\n",
    "import matplotlib.pyplot as plt\n",
    "epochs =[i+1 for i in range(20)]\n",
    "plt.plot(epochs,tr_accuracy_list, color='red', label='Train')\n",
    "plt.plot(epochs,accuracy_list, '--', color='blue', label='Valid')\n",
    "#plt.title('CrossEntropy') # title\n",
    "plt.ylabel(\"accuracy\") # y label\n",
    "plt.xlabel(\"Epochs\") # x label\n",
    "plt.legend() #圖例\n",
    "#plt.savefig('.\\\\Model\\\\0618\\\\t_model_' + str(isbalence) + 'bz' + str(batch_sizes) + '_' + str(num_epochs) + '.png') #儲存圖檔\n",
    "#plt.savefig('.\\\\Model\\\\0618\\\\實驗' + str(testnum) + '.png') #儲存圖檔\n",
    "plt.show()"
   ]
  },
  {
   "cell_type": "code",
   "execution_count": 11,
   "metadata": {},
   "outputs": [],
   "source": [
    "torch.save(model.state_dict(), \"VGG16_focal_97_83.pt\")\n"
   ]
  },
  {
   "cell_type": "code",
   "execution_count": 12,
   "metadata": {},
   "outputs": [],
   "source": [
    "from sklearn.metrics import confusion_matrix\n",
    "\n",
    "cm = confusion_matrix(y_true, y_pred)"
   ]
  },
  {
   "cell_type": "code",
   "execution_count": 13,
   "metadata": {},
   "outputs": [
    {
     "data": {
      "text/plain": [
       "array([[18938,  9062],\n",
       "       [ 1945,  9555]], dtype=int64)"
      ]
     },
     "execution_count": 13,
     "metadata": {},
     "output_type": "execute_result"
    }
   ],
   "source": [
    "cm"
   ]
  },
  {
   "cell_type": "code",
   "execution_count": 14,
   "metadata": {},
   "outputs": [
    {
     "name": "stdout",
     "output_type": "stream",
     "text": [
      "Accuracy: 0.7213417721518988\n",
      "FIT precision: 0.9068620408945075\n",
      "FIT recall: 0.6763571428571429\n",
      "n_FIT precision: 0.5132405865606704\n",
      "n_FIT recall: 0.8308695652173913\n",
      "F1 0.7748296953951271\n"
     ]
    }
   ],
   "source": [
    "\n",
    "tp=cm[0][0]\n",
    "fn=cm[0][1]\n",
    "fp=cm[1][0]\n",
    "tn=cm[1][1]\n",
    "print(\"Accuracy:\",(tp+tn)/(tp+fn+fp+tn) )\n",
    "\n",
    "p_presicion=tp/(tp+fp)\n",
    "p_recall=tp/(tp+fn)\n",
    "print('FIT precision:',p_presicion)\n",
    "print('FIT recall:',p_recall)\n",
    "\n",
    "n_presicion=tn/(tn+fn)\n",
    "n_recall=tn/(fp+tn)\n",
    "print('n_FIT precision:',n_presicion)\n",
    "print('n_FIT recall:',n_recall)\n",
    "\n",
    "print(\"F1\",(2*p_presicion*p_recall)/(p_presicion+p_recall))"
   ]
  },
  {
   "cell_type": "code",
   "execution_count": 15,
   "metadata": {},
   "outputs": [
    {
     "name": "stdout",
     "output_type": "stream",
     "text": [
      "[0.         0.32364286 1.        ] [0.         0.83086957 1.        ] [2 1 0]\n"
     ]
    },
    {
     "data": {
      "image/png": "[encoded data removed]",
      "text/plain": [
       "<Figure size 640x480 with 1 Axes>"
      ]
     },
     "metadata": {},
     "output_type": "display_data"
    }
   ],
   "source": [
    "from sklearn.metrics import roc_curve, roc_auc_score, auc\n",
    "import matplotlib.pyplot as plt\n",
    "fpr, tpr, threshold = roc_curve(y_true, y_pred)\n",
    "print(fpr, tpr, threshold)\n",
    "\n",
    "auc1 = auc(fpr, tpr)\n",
    "## Plot the result\n",
    "plt.title('Receiver Operating Characteristic')\n",
    "plt.plot(fpr, tpr, color = 'orange', label = 'AUC = %0.2f' % auc1)\n",
    "plt.legend(loc = 'lower right')\n",
    "plt.plot([0, 1], [0, 1],'r--')\n",
    "plt.xlim([0, 1])\n",
    "plt.ylim([0, 1])\n",
    "plt.ylabel('True Positive Rate')\n",
    "plt.xlabel('False Positive Rate')\n",
    "plt.show()    "
   ]
  }
 ],
 "metadata": {
  "kernelspec": {
   "display_name": "Python 3",
   "language": "python",
   "name": "python3"
  },
  "language_info": {
   "codemirror_mode": {
    "name": "ipython",
    "version": 3
   },
   "file_extension": ".py",
   "mimetype": "text/x-python",
   "name": "python",
   "nbconvert_exporter": "python",
   "pygments_lexer": "ipython3",
   "version": "3.7.16"
  },
  "orig_nbformat": 4,
  "vscode": {
   "interpreter": {
    "hash": "285e4d2c54d733dbcc3353af8f0e84aa12988b68f0a7a29dc07dbe7336d2825b"
   }
  }
 },
 "nbformat": 4,
 "nbformat_minor": 2
}
